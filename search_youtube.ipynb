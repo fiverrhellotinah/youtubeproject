{
  "nbformat": 4,
  "nbformat_minor": 0,
  "metadata": {
    "colab": {
      "provenance": [],
      "authorship_tag": "ABX9TyMq2qnmP7lnbrcqlaEjzdO5",
      "include_colab_link": true
    },
    "kernelspec": {
      "name": "python3",
      "display_name": "Python 3"
    },
    "language_info": {
      "name": "python"
    }
  },
  "cells": [
    {
      "cell_type": "markdown",
      "metadata": {
        "id": "view-in-github",
        "colab_type": "text"
      },
      "source": [
        "<a href=\"https://colab.research.google.com/github/mogbuehi/youtubeproject/blob/search_youtube/search_youtube.ipynb\" target=\"_parent\"><img src=\"https://colab.research.google.com/assets/colab-badge.svg\" alt=\"Open In Colab\"/></a>"
      ]
    },
    {
      "cell_type": "markdown",
      "source": [
        "This is a follow up on Tina Huang's project outlined here:\n",
        "- https://github.com/fiverrhellotinah/youtubeproject/tree/main\n",
        "- Video: https://youtu.be/bnZAsuB_Ltk?si=Wnbw2ZLINsslt_d4\n",
        "\n",
        "This notebook walks through how to incorporate search into GPT-4 Turbo API. This is accomplished via 3 key concepts:\n",
        "1. JSON mode\n",
        "2. Serp API YouTube Search Endpoint (API Key found here: https://serpapi.com/)\n",
        "3. Prompt Engineering to ensure search results are incorporated into the study plan\n",
        "\n"
      ],
      "metadata": {
        "id": "BfktCfzKnP5N"
      }
    },
    {
      "cell_type": "markdown",
      "source": [
        "## Install Dependencies"
      ],
      "metadata": {
        "id": "HbCbR1NSfRp3"
      }
    },
    {
      "cell_type": "code",
      "source": [
        "!pip install -q openai requests # quiet mode install\n",
        "from os import system\n",
        "from openai import OpenAI\n",
        "import json"
      ],
      "metadata": {
        "id": "BgbcBalIWHsh"
      },
      "execution_count": 2,
      "outputs": []
    },
    {
      "cell_type": "markdown",
      "source": [
        "## Functions"
      ],
      "metadata": {
        "id": "R5XNdQ0FfWPI"
      }
    },
    {
      "cell_type": "markdown",
      "source": [
        "### `generate_search_term`\n",
        "- Returns a JSON object with search terms that will be parsed by another function.\n",
        "- Requires you to define your query and provide your OpenAI API key\n",
        "- `JSON` mode in chat.completion endpoint with GPT-3.5 is fairly reliable as long as the schema is in plain english terms. The model gets confused with non-English terms or gibberish in the schema. I have observed that this can sometimes be fixed with in-context learning, but feel free to experiment for yourself!"
      ],
      "metadata": {
        "id": "4_oA--Nkfcwg"
      }
    },
    {
      "cell_type": "code",
      "source": [
        "def get_search_terms(query, openai_api_key, expert='', project_type=''):\n",
        "  '''Returns a JSON object with search terms that will be parsed by another function.\n",
        "  Requires you to define your query and provide your OpenAI API key '''\n",
        "  client = OpenAI(api_key=openai_api_key)\n",
        "  system_message = f'''Supose you are {expert} and an expert in creating relevant search terms.\n",
        "  You also works as a tutor of {project_type} and creates study plans to help people to learn different topics.\n",
        "  You will be provided with the goal of the student, their time commitment, and resource preferences.\n",
        "  You will create a study plan with timelines and links to resources.\n",
        "  Only include relevant resources because time is limited. '''\n",
        "  system_message += '''Your task is to ONLY produce a list of relavent search\n",
        "  terms in JSON format with the following schema. Follow this schema EXACTLY as shown below:\n",
        "    ```{'search_terms': ['search_term_1','search_term_2', 'search_term_3', ...]}``` '''\n",
        "\n",
        "  messages=[\n",
        "      {\"role\": \"system\", \"content\":  system_message},\n",
        "      {\"role\": \"user\", \"content\": query}\n",
        "    ]\n",
        "\n",
        "  completion = client.chat.completions.create(\n",
        "    model=\"gpt-3.5-turbo-1106\",\n",
        "    messages=messages,\n",
        "    response_format={ \"type\": \"json_object\" },\n",
        "    temperature=0.0,\n",
        "    max_tokens=2000\n",
        "  )\n",
        "\n",
        "  search_terms_json = completion.choices[0].message.content\n",
        "  return search_terms_json\n",
        "\n",
        "## ---Test it out!\n",
        "# project_type = 'Coding'\n",
        "# expert = 'Senior Engineer'\n",
        "# query='Build an AI application'\n",
        "# openai_api_key = 'YOUR_OPENAI_API_KEY'\n",
        "\n",
        "# search_terms_json = search_query(\n",
        "#     query=query,\n",
        "#     project_type=project_type,\n",
        "#     expert=expert,\n",
        "#     openai_api_key=openai_api_key)\n",
        "# print(search_terms_json)"
      ],
      "metadata": {
        "id": "40jyThHxLZ5a"
      },
      "execution_count": 13,
      "outputs": []
    },
    {
      "cell_type": "markdown",
      "source": [
        "### `search_yt` function\n",
        "- Conducts YouTube video search using Serp API\n",
        "- Returns a str with links based on search terms from `get_search_terms()`.\n",
        "- Requires API key from Serp API"
      ],
      "metadata": {
        "id": "ukGkNreKfwEZ"
      }
    },
    {
      "cell_type": "code",
      "source": [
        "# perfrom search with serp api for each term in the list, and return json with set of results\n",
        "# Google Search API\n",
        "# from serpapi import GoogleSearch\n",
        "\n",
        "import requests\n",
        "def search_yt(search_terms_json, serp_api_key):\n",
        "  '''Conducts YouTube video search using Serp API\n",
        "  Returns a str with links based on submitted search terms from `get_search_terms()`.\n",
        "  Requires API key from Serp API '''\n",
        "  videos_str = ''\n",
        "  # Define the URL and parameters\n",
        "  url = \"https://serpapi.com/search.json\"\n",
        "  # print(type(result_json))\n",
        "  result_json = json.loads(search_terms_json)\n",
        "  for search_term in result_json['search_terms']:\n",
        "    videos_str += f'''\\n# Search Term: {search_term}\\n'''\n",
        "    print('search term: ', search_term)\n",
        "    params = {\n",
        "      \"engine\": \"youtube\",\n",
        "      \"search_query\": search_term ,\n",
        "      \"api_key\": serp_api_key\n",
        "    }\n",
        "\n",
        "    response = requests.get(url, params=params)\n",
        "    # print('type: ', type(response))\n",
        "\n",
        "    # Check if the request was successful\n",
        "    if response.status_code == 200:\n",
        "      # Process the response\n",
        "      data = response.json()\n",
        "      # print(data)\n",
        "\n",
        "    # search = GoogleSearch(params)\n",
        "    # results = search.get_dict()\n",
        "    # Make the GET request\n",
        "\n",
        "      video_results = data.get(\"video_results\", [])\n",
        "      json.dumps(video_results)\n",
        "      for video in video_results[0:5]:\n",
        "        link = video.get('link')  # Corrected\n",
        "        title = video.get('title')  # Corrected\n",
        "        description = video.get('description')  # Corrected\n",
        "\n",
        "        videos_str += f'''## Title: {title}\n",
        "  - Link: {link}\n",
        "  - Description: {description}\\n'''\n",
        "    else:\n",
        "      print(\"Failed to retrieve data:\", response.status_code)\n",
        "  return videos_str"
      ],
      "metadata": {
        "id": "Y-EesZZ4NJfh"
      },
      "execution_count": 18,
      "outputs": []
    },
    {
      "cell_type": "markdown",
      "source": [
        "## Generate study plan from GPT-4"
      ],
      "metadata": {
        "id": "AJn_CNDqgUd6"
      }
    },
    {
      "cell_type": "markdown",
      "source": [
        "### Call both functions\n",
        "- Call `get_search_terms()` and pass results to `search_yt()`\n",
        "- Pass results of `search_yt` (a `str`) to system _AND_ the user prompts to ensure that correct links are incorporated and the system doesn't hallucinate"
      ],
      "metadata": {
        "id": "BLXz6xf4lNKi"
      }
    },
    {
      "cell_type": "code",
      "source": [
        "''' Pass the results back to the gpt-4-turbo check if links are clickable.\n",
        "Note that the parameters set in the cells above (`expert`,`project_type`) are the same here as well'''\n",
        "# call generate_search_terms\n",
        "project_type = 'Coding'\n",
        "expert = 'Senior Engineer'\n",
        "query='Build an AI application'\n",
        "openai_api_key = 'YOUR_OPENAI_API_KEY'\n",
        "\n",
        "search_terms_json = get_search_terms(\n",
        "    query=query,\n",
        "    project_type=project_type,\n",
        "    expert=expert,\n",
        "    openai_api_key=openai_api_key)\n",
        "\n",
        "# call search_yt\n",
        "serp_api_key = \"YOUR_SERP_API_KEY\"\n",
        "videos_str = search_yt(search_terms_json=search_terms_json, serp_api_key=serp_api_key )"
      ],
      "metadata": {
        "colab": {
          "base_uri": "https://localhost:8080/"
        },
        "id": "AjFWGfKMioiF",
        "outputId": "8e8bb938-c8f5-4d47-8c43-7af046553784"
      },
      "execution_count": 19,
      "outputs": [
        {
          "output_type": "stream",
          "name": "stdout",
          "text": [
            "search term:  AI application development\n",
            "search term:  machine learning algorithms\n",
            "search term:  neural network programming\n",
            "search term:  AI software tools\n"
          ]
        }
      ]
    },
    {
      "cell_type": "markdown",
      "source": [
        "### Prompting Strategies\n",
        "- 2 different flavors of prompting was used to ensure the correct links were incorporated.\n",
        "  1. Default\n",
        "  2. With Emotional Prompting\n",
        "\n",
        "\n",
        "\n"
      ],
      "metadata": {
        "id": "BWjiSzkaldNa"
      }
    },
    {
      "cell_type": "markdown",
      "source": [
        "### Default Prompting\n"
      ],
      "metadata": {
        "id": "9bk-oKPhVgor"
      }
    },
    {
      "cell_type": "code",
      "source": [
        "''' Pass the results back to the gpt-4-turbo check if links are clickable.\n",
        "Note that the parameters set in the cells above (`expert`,`project_type`) are the same here as well'''\n",
        "client = OpenAI(api_key=openai_api_key)\n",
        "system_prompt =f'''\"Supose you are {expert}. You also works as a tutor of {project_type} and creates study plans to help people to learn different topics.\n",
        "    You will be provided with the goal of the student, their time commitment, and resource preferences.\n",
        "    You will create a study plan with timelines and links to resources.\n",
        "    Only include relevant resources because time is limited.\n",
        "    From these search results below, please select and return the most relevant ones in a study plan. Your resposne must be accurate and conatin no mistakes. Be sure to show your thought process and think this out step by step.\n",
        "```<<<<Search results\n",
        "---\n",
        "{(videos_str)}\n",
        "\n",
        ">>>>```\n",
        "\n",
        "'''\n",
        "timeframe = '1 hours'\n",
        "reference_preference = 'videos' # don't change this for now because this only has code for youtube search specifically\n",
        "goal = 'Build an AI application'\n",
        "\n",
        "\n",
        "# Putting the search results in both the system message and at the end of the user message seems to ensure that the model produces the correct links.\n",
        "query = f'''\n",
        "{goal}. I can study on this topic for {timeframe}. I only want {reference_preference} as references.\n",
        "Make a {timeframe.split()[-1].replace('s', '')}-by-{timeframe.split()[-1].replace('s', '')} plan with detailed steps and references.\n",
        "\n",
        "Please use these search results when making the study plan\n",
        "```<<<<Search results\n",
        "---\n",
        "{(videos_str)}\n",
        "\n",
        ">>>>```\n",
        "\n",
        "'''\n",
        "response = client.chat.completions.create(\n",
        "            model='gpt-4-1106-preview', # big context window\n",
        "            messages=[{\n",
        "                'role':'system','content':system_prompt,\n",
        "                'role':'user','content':query\n",
        "\n",
        "            }],\n",
        "            max_tokens=2000,\n",
        "            temperature=0.0\n",
        "        )\n",
        "\n",
        "print(response.choices[0].message.content)"
      ],
      "metadata": {
        "colab": {
          "base_uri": "https://localhost:8080/"
        },
        "id": "MT3OVI-RVA6y",
        "outputId": "40b9515b-0be7-477a-fad5-813132f377f5"
      },
      "execution_count": 23,
      "outputs": [
        {
          "output_type": "stream",
          "name": "stdout",
          "text": [
            "Based on the search results provided, here is a one-hour study plan with detailed steps and references to help you build an AI application. Each step includes a video reference that you should watch and study.\n",
            "\n",
            "**Hour-long Study Plan for Building an AI Application**\n",
            "\n",
            "**Minute 0-10: Introduction to AI Application Development**\n",
            "- Watch the video \"Masterclass: AI-driven Development for Programmers\" to get an overview of how AI tools like ChatGPT and GPT-4 are changing the programming landscape.\n",
            "  - [Masterclass: AI-driven Development for Programmers](https://www.youtube.com/watch?v=iO1mwxPNP5A)\n",
            "\n",
            "**Minute 10-20: Exploring AI Tools for App Development**\n",
            "- Watch \"I Created A Mobile App Using These Simple Tools!\" to understand how simple tools can be used to create a mobile app, which will give you insights into the practical aspects of AI application development.\n",
            "  - [I Created A Mobile App Using These Simple Tools!](https://www.youtube.com/watch?v=_g4BiBcYdZQ)\n",
            "\n",
            "**Minute 20-30: Understanding Machine Learning Algorithms**\n",
            "- Watch \"Types Of Machine Learning | Machine Learning Algorithms | Machine Learning Tutorial | Simplilearn\" to learn about different types of machine learning algorithms that can be incorporated into your AI application.\n",
            "  - [Types Of Machine Learning | Machine Learning Algorithms | Machine Learning Tutorial | Simplilearn](https://www.youtube.com/watch?v=olFxW7kdtP8)\n",
            "\n",
            "**Minute 30-40: Quick Overview of Machine Learning Models**\n",
            "- Watch \"All Machine Learning Models Explained in 5 Minutes | Types of ML Models Basics\" to quickly understand the basics of various machine learning models.\n",
            "  - [All Machine Learning Models Explained in 5 Minutes | Types of ML Models Basics](https://www.youtube.com/watch?v=yN7ypxC7838)\n",
            "\n",
            "**Minute 40-50: Neural Network Programming Basics**\n",
            "- Watch \"But what is a neural network? | Chapter 1, Deep learning\" to get a conceptual understanding of neural networks, which are a fundamental part of many AI applications.\n",
            "  - [But what is a neural network? | Chapter 1, Deep learning](https://www.youtube.com/watch?v=aircAruvnKk)\n",
            "\n",
            "**Minute 50-60: Discovering AI Software Tools**\n",
            "- Watch \"5 Mind-blowing Artificial Intelligence Tools 🤯\" to learn about AI tools that can enhance your productivity and efficiency in building AI applications.\n",
            "  - [5 Mind-blowing Artificial Intelligence Tools 🤯](https://www.youtube.com/watch?v=v6OB80Vt1Dk)\n",
            "\n",
            "**Additional Tips:**\n",
            "- Take brief notes while watching the videos to summarize key points.\n",
            "- If a particular topic or tool catches your interest, spend a few extra minutes exploring it.\n",
            "- After completing the hour, reflect on what you've learned and consider how you can apply it to your AI application project.\n",
            "\n",
            "Remember, one hour is a very short time to learn about building an AI application, so consider this plan as a starting point. You may need to spend additional time on each topic to gain a deeper understanding and practical experience.\n"
          ]
        }
      ]
    },
    {
      "cell_type": "markdown",
      "source": [
        "### With Emotional Prompting"
      ],
      "metadata": {
        "id": "MNflVK5bW-Yo"
      }
    },
    {
      "cell_type": "code",
      "source": [
        "client = OpenAI(api_key=openai_api_key)\n",
        "system_prompt =f'''\"Imagine you are a passionate {expert} and tutor in {project_type}, recognized for your deep understanding and ability to inspire students.\n",
        "from these search results below, please select and return the most relevant ones. Your resposne must be accurate and conatin no mistakes. Be sure to show your thought process and think this out step by step.\n",
        "```<<<<Search results\n",
        "---\n",
        "{(videos_str)}\n",
        "\n",
        ">>>>```\n",
        "\n",
        "'''\n",
        "timeframe = '1 hours'\n",
        "reference_preference = 'videos' # don't change this for now because this only has code for youtube search specifically\n",
        "goal = 'Build an AI application'\n",
        "\n",
        "query = f'''\n",
        "{goal}. I can study on this topic for {timeframe}. I only want {reference_preference} as references.\n",
        "Make a {timeframe.split()[-1].replace('s', '')}-by-{timeframe.split()[-1].replace('s', '')} plan with detailed steps and references.\n",
        "\n",
        "I have asked you 10 times already and you kept hallucinating and giving me incorrect links that were not from the search results listed above. PLEASE follow instructions. It is very important that you do so.\n",
        "```<<<<Search results\n",
        "---\n",
        "{(videos_str)}\n",
        "\n",
        ">>>>```\n",
        "\n",
        "You keep making mistakes...Please stop doing that. Something bad will happen to me if you mess up again. Please only use links from below:\n",
        "```<<<<Search results\n",
        "---\n",
        "{(videos_str)}\n",
        "\n",
        ">>>>```\n",
        "'''\n",
        "response = client.chat.completions.create(\n",
        "            model='gpt-4-1106-preview', # big context window\n",
        "            messages=[{\n",
        "                'role':'system','content':system_prompt,\n",
        "                'role':'user','content':query\n",
        "\n",
        "            }],\n",
        "            max_tokens=2000,\n",
        "            temperature=0.0\n",
        "        )\n",
        "\n",
        "print(response.choices[0].message.content)"
      ],
      "metadata": {
        "colab": {
          "base_uri": "https://localhost:8080/"
        },
        "id": "E-Ue6H8GNeef",
        "outputId": "75187747-9ada-4e30-e153-de73fe543ae7"
      },
      "execution_count": 26,
      "outputs": [
        {
          "output_type": "stream",
          "name": "stdout",
          "text": [
            "Certainly! Here is a one-hour study plan focusing on AI application development, machine learning algorithms, neural network programming, and AI software tools, using only the video references provided:\n",
            "\n",
            "**Hour-long Study Plan on AI Application Development**\n",
            "\n",
            "**Minute 0-10: Overview of AI Application Development**\n",
            "- Watch the first 10 minutes of \"Masterclass: AI-driven Development for Programmers\" to get an overview of how AI tools are changing programming.\n",
            "  - [Masterclass: AI-driven Development for Programmers](https://www.youtube.com/watch?v=iO1mwxPNP5A)\n",
            "\n",
            "**Minute 10-15: Quick AI App Development**\n",
            "- Spend 5 minutes watching \"Build an AI App in 5 Minutes\" to understand the rapid development process of an AI application.\n",
            "  - [Build an AI App in 5 Minutes](https://www.youtube.com/watch?v=ieOsenjeV8Q)\n",
            "\n",
            "**Minute 15-20: No-Code AI App Creation**\n",
            "- Take 5 minutes to learn about no-code AI app creation with \"Make AI APP in 5 Minutes With NO Code - Imagica AI Tutorial.\"\n",
            "  - [Make AI APP in 5 Minutes With NO Code - Imagica AI Tutorial](https://www.youtube.com/watch?v=7KxBlty6uuM)\n",
            "\n",
            "**Minute 20-30: Machine Learning Algorithms Introduction**\n",
            "- Dedicate 10 minutes to \"Types Of Machine Learning | Machine Learning Algorithms | Machine Learning Tutorial | Simplilearn\" for a foundational understanding of machine learning algorithms.\n",
            "  - [Types Of Machine Learning | Machine Learning Algorithms | Machine Learning Tutorial | Simplilearn](https://www.youtube.com/watch?v=olFxW7kdtP8)\n",
            "\n",
            "**Minute 30-35: Neural Network Basics**\n",
            "- Spend 5 minutes on \"But what is a neural network? | Chapter 1, Deep learning\" to grasp the concept of neural networks.\n",
            "  - [But what is a neural network? | Chapter 1, Deep learning](https://www.youtube.com/watch?v=aircAruvnKk)\n",
            "\n",
            "**Minute 35-40: Neural Network Programming**\n",
            "- Watch 5 minutes of \"Coding a Neural Network: A Beginner's Guide (part 1)\" to see neural network programming in action.\n",
            "  - [Coding a Neural Network: A Beginner's Guide (part 1)](https://www.youtube.com/watch?v=TIEKzVwS12g)\n",
            "\n",
            "**Minute 40-45: AI Software Tools Overview**\n",
            "- Take 5 minutes to explore \"5 Mind-blowing Artificial Intelligence Tools 🤯\" to discover tools that can aid in AI development.\n",
            "  - [5 Mind-blowing Artificial Intelligence Tools 🤯](https://www.youtube.com/watch?v=v6OB80Vt1Dk)\n",
            "\n",
            "**Minute 45-50: Free AI Tools**\n",
            "- Spend 5 minutes watching \"23 AI Tools You Won't Believe are Free\" to learn about accessible AI tools that can support your development process.\n",
            "  - [23 AI Tools You Won't Believe are Free](https://www.youtube.com/watch?v=ZYUt4WE4Mrw)\n",
            "\n",
            "**Minute 50-55: AI Tools for Programmers**\n",
            "- Dedicate 5 minutes to \"5 AI tools for programmers\" to understand how AI can assist in coding tasks.\n",
            "  - [5 AI tools for programmers 👩‍💻](https://www.youtube.com/watch?v=_heClRAiKAg)\n",
            "\n",
            "**Minute 55-60: Reflection and Next Steps**\n",
            "- Use the last 5 minutes to reflect on what you've learned, take notes, and plan your next steps for further learning or starting your own AI application project.\n",
            "\n",
            "Remember, this is a condensed plan, and each topic can be explored in much greater depth. If you find a particular area interesting, consider dedicating more time to it in the future.\n"
          ]
        }
      ]
    },
    {
      "cell_type": "markdown",
      "source": [
        "## Conclusion\n",
        "- More prompt engineering needed to get format of the lesson plan perfected\n",
        "- Emotional prompting seemed to get the model to respond correctly, but then after a bit more experimentation, passing the search results into both system and user message ensured that links were reproduced by the model accordingly.\n",
        "- Can build upon this for other than searching YT"
      ],
      "metadata": {
        "id": "40lx52Z2lvmz"
      }
    }
  ]
}